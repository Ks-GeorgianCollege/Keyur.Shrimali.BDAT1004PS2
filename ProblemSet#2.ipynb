{
 "cells": [
  {
   "cell_type": "markdown",
   "id": "2c6df0a7",
   "metadata": {},
   "source": [
    "## BDAT 1004 – Data Programming - Problem Set 2"
   ]
  },
  {
   "cell_type": "markdown",
   "id": "73630683",
   "metadata": {},
   "source": [
    "#### Question 1: What value is displayed when last expression (a) is evaluated ? Explain your answer by indicating what happens in every executed statement."
   ]
  },
  {
   "cell_type": "code",
   "execution_count": 1,
   "id": "345efb37",
   "metadata": {},
   "outputs": [],
   "source": [
    "a = 0\n",
    "\n",
    "def b():\n",
    "    global a\n",
    "    a = c(a)\n",
    "    \n",
    "def c(a):\n",
    "    return a + 2"
   ]
  },
  {
   "cell_type": "code",
   "execution_count": 2,
   "id": "7e48bd7c",
   "metadata": {},
   "outputs": [],
   "source": [
    "b()"
   ]
  },
  {
   "cell_type": "code",
   "execution_count": 3,
   "id": "d6d99b9f",
   "metadata": {},
   "outputs": [],
   "source": [
    "b()"
   ]
  },
  {
   "cell_type": "code",
   "execution_count": 4,
   "id": "fe35507c",
   "metadata": {},
   "outputs": [],
   "source": [
    "b()"
   ]
  },
  {
   "cell_type": "code",
   "execution_count": 5,
   "id": "21c3e0d5",
   "metadata": {},
   "outputs": [
    {
     "data": {
      "text/plain": [
       "6"
      ]
     },
     "execution_count": 5,
     "metadata": {},
     "output_type": "execute_result"
    }
   ],
   "source": [
    "a"
   ]
  },
  {
   "cell_type": "markdown",
   "id": "a15d4cf1",
   "metadata": {},
   "source": [
    "Explanation:\n",
    "In the first iteration, value of variable 'a' is 0 as it is declared as an global variable. When function b() calls function c(a), it will return the value as 2 which is assigned with variable 'a'. So, now when we call function b() again it will pass the value of 'a' as 2 for the function c(). So, function c() will return the value 4. Likewise, in the third iteration function c() will return the value 6. Thus, the result of print(a) is 6."
   ]
  },
  {
   "cell_type": "markdown",
   "id": "5a05e21b",
   "metadata": {},
   "source": [
    "#### Question 2: Function fileLength(), given to you, takes the name as input and returns the length of the file. Modify function fileLength() so that a friendly message is printed instead"
   ]
  },
  {
   "cell_type": "code",
   "execution_count": 6,
   "id": "80d84c4a",
   "metadata": {},
   "outputs": [
    {
     "name": "stdout",
     "output_type": "stream",
     "text": [
      "File midterm.py not found.\n",
      "File idterm.py not found.\n"
     ]
    }
   ],
   "source": [
    "import os\n",
    "\n",
    "def fileLength(file_name):\n",
    "    try:\n",
    "        f = open(file_name, 'r')\n",
    "        print(len(f.readlines()))\n",
    "\n",
    "    except OSError as e:\n",
    "        print(\"File \" + file_name + \" not found.\")\n",
    "\n",
    "fileLength(\"midterm.py\")\n",
    "fileLength(\"idterm.py\")"
   ]
  },
  {
   "cell_type": "markdown",
   "id": "a08baeda",
   "metadata": {},
   "source": [
    "### Question 3: Write a class Marsupial that can be used as below. Now write a class named as Kangaroo as a subclass of Marsupial that inherits all the attributes of Marsupial"
   ]
  },
  {
   "cell_type": "code",
   "execution_count": 7,
   "id": "ba697e85",
   "metadata": {},
   "outputs": [],
   "source": [
    "class Marsupial:\n",
    "    def __init__(self):\n",
    "        self.pouch = []\n",
    "\n",
    "    def put_in_pouch(self, val):\n",
    "        self.pouch.append(val)\n",
    "\n",
    "    def pouch_contents(self):\n",
    "        print(self.pouch)"
   ]
  },
  {
   "cell_type": "code",
   "execution_count": 8,
   "id": "6fcc8b0f",
   "metadata": {},
   "outputs": [
    {
     "name": "stdout",
     "output_type": "stream",
     "text": [
      "['doll', 'firetruck', 'kitten']\n"
     ]
    }
   ],
   "source": [
    "m = Marsupial()\n",
    "try:\n",
    "    m.put_in_pouch(\"doll\")\n",
    "    m.put_in_pouch(\"firetruck\")\n",
    "    m.put_in_pouch(\"kitten\")\n",
    "    m.pouch_contents()\n",
    "\n",
    "except AttributeError:\n",
    "    print(\"There is no such attribute\")    \n"
   ]
  },
  {
   "cell_type": "code",
   "execution_count": 9,
   "id": "10d2c63a",
   "metadata": {},
   "outputs": [],
   "source": [
    "class Kangaroo(Marsupial):\n",
    "    def __init__(self, x, y):\n",
    "        super().__init__()\n",
    "        self.coordx = x\n",
    "        self.coordy = y\n",
    "\n",
    "    def jump(self, dx, dy):\n",
    "        self.coordx = self.coordx + dx\n",
    "        self.coordy = self.coordy + dy\n",
    "\n",
    "    def __str__(self):\n",
    "        print(\"I am a Kangaroo located at coordinates (%d, %d)\" %(self.coordx, self.coordy))\n",
    "        return \" \""
   ]
  },
  {
   "cell_type": "code",
   "execution_count": 10,
   "id": "c06d715f",
   "metadata": {},
   "outputs": [
    {
     "name": "stdout",
     "output_type": "stream",
     "text": [
      "I am a Kangaroo located at coordinates (0, 0)\n",
      " \n",
      "['doll', 'firetruck', 'kitten']\n",
      "I am a Kangaroo located at coordinates (3, 0)\n",
      " \n"
     ]
    }
   ],
   "source": [
    "k = Kangaroo(0,0)\n",
    "print(k)\n",
    "k.put_in_pouch(\"doll\")\n",
    "k.put_in_pouch(\"firetruck\")\n",
    "k.put_in_pouch(\"kitten\")\n",
    "k.pouch_contents()\n",
    "k.jump(1, 0)\n",
    "k.jump(1, 0)\n",
    "k.jump(1, 0)\n",
    "print(k)"
   ]
  },
  {
   "cell_type": "markdown",
   "id": "279ef2cb",
   "metadata": {},
   "source": [
    "#### Question 4: Write function collatz() that takes a positive integer x as input and prints the Collatz sequence starting at x. Your function should stop when the sequence gets to number 1. Your implementation must be recursive, without any loops."
   ]
  },
  {
   "cell_type": "code",
   "execution_count": 11,
   "id": "868aebeb",
   "metadata": {},
   "outputs": [
    {
     "name": "stdout",
     "output_type": "stream",
     "text": [
      "1\n"
     ]
    }
   ],
   "source": [
    "checker = \"Yes\"\n",
    "def collatz(variable_number):\n",
    "    if variable_number == 1:\n",
    "        print(1)\n",
    "    else:\n",
    "        global checker\n",
    "        if checker == \"Yes\":\n",
    "            checker = \"No\"\n",
    "            print(variable_number)\n",
    "            collatz(variable_number)\n",
    "        else:\n",
    "            if variable_number != 1:\n",
    "                if variable_number % 2 == 0:\n",
    "                    variable_number = variable_number / 2\n",
    "                    if variable_number != 1:\n",
    "                        print(int(variable_number))\n",
    "                    collatz(variable_number)\n",
    "                else:\n",
    "                    variable_number = 3 * variable_number + 1\n",
    "                    print(int(variable_number))\n",
    "                    collatz(variable_number)\n",
    "\n",
    "collatz(1)"
   ]
  },
  {
   "cell_type": "code",
   "execution_count": 12,
   "id": "6c186469",
   "metadata": {},
   "outputs": [
    {
     "name": "stdout",
     "output_type": "stream",
     "text": [
      "10\n",
      "5\n",
      "16\n",
      "8\n",
      "4\n",
      "2\n",
      "1\n"
     ]
    }
   ],
   "source": [
    "collatz(10)"
   ]
  },
  {
   "cell_type": "markdown",
   "id": "dd3e4593",
   "metadata": {},
   "source": [
    "#### Question 5: Write a recursive method binary() that takes a non-negative integer n and prints the binary representation of integer n."
   ]
  },
  {
   "cell_type": "code",
   "execution_count": 15,
   "id": "693a17a8",
   "metadata": {},
   "outputs": [],
   "source": [
    "def binary(intnum):\n",
    "    if intnum < 0:\n",
    "        return 'Must be a positive integer'\n",
    "    if intnum == 0:\n",
    "        return 0\n",
    "    else:\n",
    "        return (intnum % 2 + 10 * binary(int(intnum // 2)))"
   ]
  },
  {
   "cell_type": "code",
   "execution_count": 16,
   "id": "265707d9",
   "metadata": {},
   "outputs": [
    {
     "data": {
      "text/plain": [
       "'Must be a positive integer'"
      ]
     },
     "execution_count": 16,
     "metadata": {},
     "output_type": "execute_result"
    }
   ],
   "source": [
    "binary(-8)"
   ]
  },
  {
   "cell_type": "code",
   "execution_count": 17,
   "id": "85430fe7",
   "metadata": {},
   "outputs": [
    {
     "data": {
      "text/plain": [
       "0"
      ]
     },
     "execution_count": 17,
     "metadata": {},
     "output_type": "execute_result"
    }
   ],
   "source": [
    "binary(0)"
   ]
  },
  {
   "cell_type": "code",
   "execution_count": 18,
   "id": "b1b8ffd9",
   "metadata": {},
   "outputs": [
    {
     "data": {
      "text/plain": [
       "11"
      ]
     },
     "execution_count": 18,
     "metadata": {},
     "output_type": "execute_result"
    }
   ],
   "source": [
    "binary(3)"
   ]
  },
  {
   "cell_type": "code",
   "execution_count": 19,
   "id": "f8cefde9",
   "metadata": {},
   "outputs": [
    {
     "data": {
      "text/plain": [
       "1001"
      ]
     },
     "execution_count": 19,
     "metadata": {},
     "output_type": "execute_result"
    }
   ],
   "source": [
    "binary(9)"
   ]
  },
  {
   "cell_type": "markdown",
   "id": "3322fe93",
   "metadata": {},
   "source": [
    "#### Question 6: Implement a class named HeadingParser that can be used to parse an HTML document, and retrieve and print all the headings in the document. You should implement your class as a subclass of HTMLParser, defined in Standard Library module html.parser. When fed a string containing HTML code, your class should print the headings, one per line and in the order in which they appear in the document. Each heading should be indented as follows: an h1 heading should have indentation 0, and h2 heading should have indentation 1, etc. Test your implementation using w3c.html."
   ]
  },
  {
   "cell_type": "code",
   "execution_count": 23,
   "id": "840d4a8f",
   "metadata": {},
   "outputs": [
    {
     "name": "stdout",
     "output_type": "stream",
     "text": [
      "W3C Mission\n",
      "\n",
      "\t\n",
      " Principles\n",
      " \n",
      " \n",
      "\n",
      "\n",
      "\n",
      " \n",
      "\n"
     ]
    }
   ],
   "source": [
    "import re\n",
    "from html.parser import HTMLParser\n",
    "infile = open('w3c.html') \n",
    "content = infile.read() \n",
    "infile.close()\n",
    "\n",
    "class HeadingParser(HTMLParser):\n",
    "    def handle_starttag(self, tag, attrs):\n",
    "        global getHeading\n",
    "        match = re.match(r'h(\\d)', tag, re.I) \n",
    "        if match: getHeading = int(match.group(1))\n",
    "            \n",
    "    def handle_endtag(self, tag):\n",
    "        match = re.match(r'h(\\d)', tag, re.I)\n",
    "        if match: getHeading = 0\n",
    "\n",
    "    def handle_data(self, data):\n",
    "        if getHeading > 0:\n",
    "            tab = getHeading - 1\n",
    "            out = \" \"*tab\n",
    "            print(out+data)\n",
    "            \n",
    "getHeading = 0\n",
    "hp = HeadingParser()\n",
    "hp.feed(content)"
   ]
  },
  {
   "cell_type": "markdown",
   "id": "4d6206f7",
   "metadata": {},
   "source": [
    "#### Question 7: Implement recursive function webdir() that takes as input: a URL (as a string) and non-negative integers depth and indent. Your function should visit every web page reachable from the starting URL web page in depth clicks or less, and print each web page's URL. As shown below, indentation, specified by indent, should be used to indicate the depth of a URL."
   ]
  },
  {
   "cell_type": "code",
   "execution_count": 24,
   "id": "67e52714",
   "metadata": {},
   "outputs": [
    {
     "name": "stdout",
     "output_type": "stream",
     "text": [
      "http://reed.cs.depaul.edu/lperkovic/csc242/test1.html\n"
     ]
    }
   ],
   "source": [
    "import requests\n",
    "\n",
    "from bs4 import BeautifulSoup   \n",
    "\n",
    "def webdir(url, depth, indent):\n",
    "    resp = requests.get(url)\n",
    "    print(url)\n",
    "    if(depth == indent):\n",
    "        return\n",
    "    soup = BeautifulSoup(resp.text, 'html.parser')  \n",
    "    for link in soup.findAll('a'):\n",
    "        new_link = link.get('href')\n",
    "        if(new_link.startswith('https')):\n",
    "            webdir(new_link, depth, indent+1)\n",
    "\n",
    "webdir('http://reed.cs.depaul.edu/lperkovic/csc242/test1.html', 2, 0)"
   ]
  },
  {
   "cell_type": "markdown",
   "id": "eeb8728a",
   "metadata": {},
   "source": [
    "#### Question 8: Write SQL queries on the below database table that return:"
   ]
  },
  {
   "cell_type": "code",
   "execution_count": 39,
   "id": "c44fdf77",
   "metadata": {},
   "outputs": [
    {
     "name": "stdout",
     "output_type": "stream",
     "text": [
      "Database created and Successfully Connected to SQLite\n",
      "SQLite Database Version is:  [('3.35.4',)]\n",
      "The SQLite connection is closed\n"
     ]
    }
   ],
   "source": [
    "import sqlite3\n",
    "\n",
    "try:\n",
    "    sqliteConnection = sqlite3.connect('WeatherInfoDatabase.db')\n",
    "    cursor = sqliteConnection.cursor()\n",
    "    print(\"Database created and Successfully Connected to SQLite\")\n",
    "\n",
    "    sqlite_select_Query = \"select sqlite_version();\"\n",
    "    cursor.execute(sqlite_select_Query)\n",
    "    record = cursor.fetchall()\n",
    "    print(\"SQLite Database Version is: \", record)\n",
    "    cursor.close()\n",
    "\n",
    "except sqlite3.Error as error:\n",
    "    print(\"Error while connecting to sqlite\", error)\n",
    "finally:\n",
    "    if sqliteConnection:\n",
    "        sqliteConnection.close()\n",
    "        print(\"The SQLite connection is closed\")"
   ]
  },
  {
   "cell_type": "code",
   "execution_count": 42,
   "id": "dd7fc478",
   "metadata": {},
   "outputs": [
    {
     "name": "stdout",
     "output_type": "stream",
     "text": [
      "Successfully Connected to SQLite\n",
      "SQLite table created\n",
      "sqlite connection is closed\n"
     ]
    }
   ],
   "source": [
    "try:\n",
    "    sqliteConnection = sqlite3.connect('WeatherInfoDatabase.db')\n",
    "    sqlite_create_table_query = ''' create table weatherTable(City varchar(20), \n",
    "    Country varchar(20), Season varchar(20), Temperature varchar(20), Rainfall varchar(20));'''\n",
    "\n",
    "    cursor = sqliteConnection.cursor()\n",
    "    print(\"Successfully Connected to SQLite\")\n",
    "    cursor.execute(sqlite_create_table_query)\n",
    "    sqliteConnection.commit()\n",
    "    print(\"SQLite table created\")\n",
    "\n",
    "    cursor.close()\n",
    "\n",
    "except sqlite3.Error as error:\n",
    "    print(\"Error while creating a sqlite table\", error)\n",
    "finally:\n",
    "    if sqliteConnection:\n",
    "        sqliteConnection.close()\n",
    "        print(\"sqlite connection is closed\")\n"
   ]
  },
  {
   "cell_type": "code",
   "execution_count": 47,
   "id": "dbad22ac",
   "metadata": {},
   "outputs": [
    {
     "name": "stdout",
     "output_type": "stream",
     "text": [
      "Successfully Connected to SQLite\n",
      "Records inserted successfully into Weather table  12\n",
      "The SQLite connection is closed\n"
     ]
    }
   ],
   "source": [
    "try:\n",
    "    sqliteConnection = sqlite3.connect('WeatherInfoDatabase.db')\n",
    "    cursor = sqliteConnection.cursor()\n",
    "    print(\"Successfully Connected to SQLite\")\n",
    "    \n",
    "    records = [('Mumbai','India', 'Winter','24.8', '5.9'),\n",
    "('Mumbai','India', 'Spring','28.4', '16.2'),\n",
    "('Mumbai','India', 'Summer','27.9', '1549.4'),\n",
    "('Mumbai','India', 'Fall','27.6', '346.0'),\n",
    "('London','United Kingdom', 'Winter','4.2', '207.7'),\n",
    "('London','United Kingdom', 'Spring','8.3', '169.6'),\n",
    "('London','United Kingdom', 'Summer','15.7', '157.0'),\n",
    "('London','United Kingdom', 'Fall','10.4', '218.5'),\n",
    "('Cairo','Egypt', 'Winter','13.6', '16.5'),\n",
    "('Cairo','Egypt', 'Spring','20.7', '6.5'),\n",
    "('Cairo','Egypt', 'Summer','27.7', '0.1'),\n",
    "('Cairo','Egypt', 'Fall','22.2', '4.5')]\n",
    "\n",
    "    count = cursor.executemany(\"insert into weatherTable values(?,?,?,?,?);\", records)\n",
    "    sqliteConnection.commit()\n",
    "    print(\"Records inserted successfully into Weather table \", cursor.rowcount)\n",
    "    cursor.close()\n",
    "\n",
    "except sqlite3.Error as error:\n",
    "    print(\"Failed to insert data into sqlite table\", error)\n",
    "finally:\n",
    "    if sqliteConnection:\n",
    "        sqliteConnection.close()\n",
    "        print(\"The SQLite connection is closed\")"
   ]
  },
  {
   "cell_type": "markdown",
   "id": "39e47c79",
   "metadata": {},
   "source": [
    "#### a) All the temperature data"
   ]
  },
  {
   "cell_type": "code",
   "execution_count": 56,
   "id": "c4943c44",
   "metadata": {},
   "outputs": [
    {
     "name": "stdout",
     "output_type": "stream",
     "text": [
      "   Temperature\n",
      "0         24.8\n",
      "1         28.4\n",
      "2         27.9\n",
      "3         27.6\n",
      "4          4.2\n",
      "5          8.3\n",
      "6         15.7\n",
      "7         10.4\n",
      "8         13.6\n",
      "9         20.7\n",
      "10        27.7\n",
      "11        22.2\n",
      "The SQLite connection is closed\n"
     ]
    }
   ],
   "source": [
    "import pandas as pd\n",
    "\n",
    "try:\n",
    "\n",
    "    df = pd.read_sql_query(\"select Temperature from weatherTable\", sqlite3.connect('WeatherInfoDatabase.db'))\n",
    "    print(df)\n",
    "\n",
    "except sqlite3.Error as error:\n",
    "    print(\"Failed to read data from sqlite table\", error)\n",
    "finally:\n",
    "    if sqliteConnection:\n",
    "        sqliteConnection.close()\n",
    "        print(\"The SQLite connection is closed\")"
   ]
  },
  {
   "cell_type": "markdown",
   "id": "bae066b7",
   "metadata": {},
   "source": [
    "#### b) All the cities, but without repetition"
   ]
  },
  {
   "cell_type": "code",
   "execution_count": 57,
   "id": "377cb03d",
   "metadata": {},
   "outputs": [
    {
     "name": "stdout",
     "output_type": "stream",
     "text": [
      "     City\n",
      "0  Mumbai\n",
      "1  London\n",
      "2   Cairo\n",
      "The SQLite connection is closed\n"
     ]
    }
   ],
   "source": [
    "try:\n",
    "\n",
    "    df = pd.read_sql_query(\"select DISTINCT City from weatherTable\", sqlite3.connect('WeatherInfoDatabase.db'))\n",
    "    print(df)\n",
    "\n",
    "except sqlite3.Error as error:\n",
    "    print(\"Failed to read data from sqlite table\", error)\n",
    "finally:\n",
    "    if sqliteConnection:\n",
    "        sqliteConnection.close()\n",
    "        print(\"The SQLite connection is closed\")"
   ]
  },
  {
   "cell_type": "markdown",
   "id": "4c040837",
   "metadata": {},
   "source": [
    "#### c) All the records for India"
   ]
  },
  {
   "cell_type": "code",
   "execution_count": 58,
   "id": "df1be63f",
   "metadata": {},
   "outputs": [
    {
     "name": "stdout",
     "output_type": "stream",
     "text": [
      "     City Country  Season Temperature Rainfall\n",
      "0  Mumbai   India  Winter        24.8      5.9\n",
      "1  Mumbai   India  Spring        28.4     16.2\n",
      "2  Mumbai   India  Summer        27.9   1549.4\n",
      "3  Mumbai   India    Fall        27.6    346.0\n",
      "The SQLite connection is closed\n"
     ]
    }
   ],
   "source": [
    "try:\n",
    "\n",
    "    df = pd.read_sql_query(\"select * from weatherTable where Country='India'\", sqlite3.connect('WeatherInfoDatabase.db'))\n",
    "    print(df)\n",
    "\n",
    "except sqlite3.Error as error:\n",
    "    print(\"Failed to read data from sqlite table\", error)\n",
    "finally:\n",
    "    if sqliteConnection:\n",
    "        sqliteConnection.close()\n",
    "        print(\"The SQLite connection is closed\")"
   ]
  },
  {
   "cell_type": "markdown",
   "id": "99e11e23",
   "metadata": {},
   "source": [
    "#### d) All the fall records"
   ]
  },
  {
   "cell_type": "code",
   "execution_count": 59,
   "id": "dea64c96",
   "metadata": {},
   "outputs": [
    {
     "name": "stdout",
     "output_type": "stream",
     "text": [
      "     City         Country Season Temperature Rainfall\n",
      "0  Mumbai           India   Fall        27.6    346.0\n",
      "1  London  United Kingdom   Fall        10.4    218.5\n",
      "2   Cairo           Egypt   Fall        22.2      4.5\n",
      "The SQLite connection is closed\n"
     ]
    }
   ],
   "source": [
    "try:\n",
    "    df = pd.read_sql_query(\"select * from weatherTable where Season='Fall'\", sqlite3.connect('WeatherInfoDatabase.db'))\n",
    "    print(df)\n",
    "\n",
    "except sqlite3.Error as error:\n",
    "    print(\"Failed to read data from sqlite table\", error)\n",
    "finally:\n",
    "    if sqliteConnection:\n",
    "        sqliteConnection.close()\n",
    "        print(\"The SQLite connection is closed\")"
   ]
  },
  {
   "cell_type": "markdown",
   "id": "2f295008",
   "metadata": {},
   "source": [
    "#### e) The city, country, and season for which the average rainfall is between 200 and 400 millimeters."
   ]
  },
  {
   "cell_type": "code",
   "execution_count": 60,
   "id": "090c411c",
   "metadata": {},
   "outputs": [
    {
     "name": "stdout",
     "output_type": "stream",
     "text": [
      "     City         Country  Season  AVG(Rainfall)\n",
      "0  London  United Kingdom  Winter          207.7\n",
      "1  London  United Kingdom    Fall          218.5\n",
      "2  Mumbai           India    Fall          346.0\n",
      "The SQLite connection is closed\n"
     ]
    }
   ],
   "source": [
    "try:\n",
    "    df = pd.read_sql_query(\"SELECT  City, Country, Season, AVG(Rainfall) FROM weatherTable GROUP BY Rainfall Having AVG(Rainfall) BETWEEN 200 AND 400\", sqlite3.connect('WeatherInfoDatabase.db'))\n",
    "    print(df)\n",
    "\n",
    "except sqlite3.Error as error:\n",
    "    print(\"Failed to read data from sqlite table\", error)\n",
    "finally:\n",
    "    if sqliteConnection:\n",
    "        sqliteConnection.close()\n",
    "        print(\"The SQLite connection is closed\")"
   ]
  },
  {
   "cell_type": "markdown",
   "id": "4b7bcabe",
   "metadata": {},
   "source": [
    "#### f) The city and country for which the average Fall temperature is above 20 degrees, in increasing temperature order."
   ]
  },
  {
   "cell_type": "code",
   "execution_count": 61,
   "id": "2e83bbbc",
   "metadata": {},
   "outputs": [
    {
     "name": "stdout",
     "output_type": "stream",
     "text": [
      "     City Country  AVG(Temperature)\n",
      "0   Cairo   Egypt              22.2\n",
      "1  Mumbai   India              27.6\n",
      "The SQLite connection is closed\n"
     ]
    }
   ],
   "source": [
    "try:\n",
    "    df = pd.read_sql_query(\"\"\"select City, Country, AVG(Temperature) FROM weatherTable\n",
    "                                WHERE Season = 'Fall'  \n",
    "                                group by Temperature\n",
    "                                HAVING AVG(Temperature) > 20\n",
    "                                ORDER BY AVG(Temperature) ASC;\"\"\", sqlite3.connect('WeatherInfoDatabase.db'))\n",
    "    print(df)\n",
    "\n",
    "except sqlite3.Error as error:\n",
    "    print(\"Failed to read data from sqlite table\", error)\n",
    "finally:\n",
    "    if sqliteConnection:\n",
    "        sqliteConnection.close()\n",
    "        print(\"The SQLite connection is closed\")"
   ]
  },
  {
   "cell_type": "markdown",
   "id": "12927fd2",
   "metadata": {},
   "source": [
    "#### g) The total annual rainfall for Cairo."
   ]
  },
  {
   "cell_type": "code",
   "execution_count": 62,
   "id": "1e45d7b8",
   "metadata": {},
   "outputs": [
    {
     "name": "stdout",
     "output_type": "stream",
     "text": [
      "    City  SUM(Rainfall)\n",
      "0  Cairo           27.6\n",
      "The SQLite connection is closed\n"
     ]
    }
   ],
   "source": [
    "try:\n",
    "    df = pd.read_sql_query(\"\"\"select City, SUM(Rainfall) FROM weatherTable where City='Cairo';\"\"\", sqlite3.connect('WeatherInfoDatabase.db'))\n",
    "    print(df)\n",
    "\n",
    "except sqlite3.Error as error:\n",
    "    print(\"Failed to read data from sqlite table\", error)\n",
    "finally:\n",
    "    if sqliteConnection:\n",
    "        sqliteConnection.close()\n",
    "        print(\"The SQLite connection is closed\")"
   ]
  },
  {
   "cell_type": "markdown",
   "id": "06effcea",
   "metadata": {},
   "source": [
    "#### h) The total rainfall for each season."
   ]
  },
  {
   "cell_type": "code",
   "execution_count": 63,
   "id": "e34ce271",
   "metadata": {},
   "outputs": [
    {
     "name": "stdout",
     "output_type": "stream",
     "text": [
      "   Season  SUM(Rainfall)\n",
      "0    Fall          569.0\n",
      "1  Spring          192.3\n",
      "2  Summer         1706.5\n",
      "3  Winter          230.1\n",
      "The SQLite connection is closed\n"
     ]
    }
   ],
   "source": [
    "try:\n",
    "    df = pd.read_sql_query(\"\"\"select Season, SUM(Rainfall) FROM weatherTable group by Season\"\"\", sqlite3.connect('WeatherInfoDatabase.db'))\n",
    "    print(df)\n",
    "\n",
    "except sqlite3.Error as error:\n",
    "    print(\"Failed to read data from sqlite table\", error)\n",
    "finally:\n",
    "    if sqliteConnection:\n",
    "        sqliteConnection.close()\n",
    "        print(\"The SQLite connection is closed\")"
   ]
  },
  {
   "cell_type": "markdown",
   "id": "3815f0f4",
   "metadata": {},
   "source": [
    "#### Question 9: Write list comprehensions expressions that use list words and generate the following lists:"
   ]
  },
  {
   "cell_type": "code",
   "execution_count": 64,
   "id": "7ee50f18",
   "metadata": {},
   "outputs": [
    {
     "name": "stdout",
     "output_type": "stream",
     "text": [
      "['THE', 'QUICK', 'BROWN', 'FOX', 'JUMPS', 'OVER', 'THE', 'LAZY', 'DOG']\n",
      "\n",
      "\n",
      "['the', 'quick', 'brown', 'fox', 'jumps', 'over', 'the', 'lazy', 'dog']\n",
      "\n",
      "\n",
      "[3, 5, 5, 3, 5, 4, 3, 4, 3]\n",
      "\n",
      "\n",
      "[['THE', 'the', 3], ['QUICK', 'quick', 5], ['BROWN', 'brown', 5], ['FOX', 'fox', 3], ['JUMPS', 'jumps', 5], ['OVER', 'over', 4], ['THE', 'the', 3], ['LAZY', 'lazy', 4], ['DOG', 'dog', 3]]\n",
      "\n",
      "\n",
      "['quick', 'brown', 'jumps', 'over', 'lazy']\n"
     ]
    }
   ],
   "source": [
    "words = [\"The\", \"quick\", \"brown\", \"fox\", \"jumps\", \"over\", \"the\", \"lazy\", \"dog\"]\n",
    "\n",
    "# a) Convert words into upper case\n",
    "wordsUpper = [word.upper() for word in words]\n",
    "print(wordsUpper)\n",
    "print(\"\\n\")\n",
    "\n",
    "\n",
    "# b) Convert words into lower case\n",
    "\n",
    "wordsLower = [word.lower() for word in words]\n",
    "print(wordsLower)\n",
    "print(\"\\n\")\n",
    "\n",
    "\n",
    "# c) the list of length of words in list words\n",
    "\n",
    "wordsLength = []\n",
    "for w in words:\n",
    "    wordsLength.append(len(w))     \n",
    "print(wordsLength)\n",
    "print(\"\\n\")\n",
    "\n",
    "\n",
    "# d) the list containing a list for every word of list words, where each list contains the word in uppercase and lowercase and \n",
    "# the length of the word\n",
    "\n",
    "initializeCounterValue = 0\n",
    "singleListArray = []\n",
    "    \n",
    "for j in words:\n",
    "    singleListArray.append(wordsUpper[initializeCounterValue])\n",
    "    singleListArray.append(wordsLower[initializeCounterValue])\n",
    "    singleListArray.append(wordsLength[initializeCounterValue])\n",
    "    initializeCounterValue = initializeCounterValue + 1\n",
    "\n",
    "delimiterVariableLimit = 3\n",
    "resultArray = [singleListArray[additor:additor+delimiterVariableLimit] for additor in range(0, len(singleListArray), delimiterVariableLimit)]\n",
    "print(resultArray)\n",
    "print(\"\\n\")\n",
    "\n",
    "# e) the list of words in list words containing 4 or more characters\n",
    "\n",
    "def wordString(k, str):    \n",
    "    string = []     \n",
    "    text = str.split(\" \")     \n",
    "    for x in text:         \n",
    "        if len(x) >= k:            \n",
    "            string.append(x)             \n",
    "    return string\n",
    "    \n",
    "result_list = [''.join([str(c) for c in lst]) for lst in words]\n",
    "result_string = ' '.join(result_list)\n",
    "requiredCharacterLength = 4\n",
    "print(wordString(requiredCharacterLength, result_string))"
   ]
  },
  {
   "cell_type": "code",
   "execution_count": null,
   "id": "740a010a",
   "metadata": {},
   "outputs": [],
   "source": []
  }
 ],
 "metadata": {
  "kernelspec": {
   "display_name": "Python 3",
   "language": "python",
   "name": "python3"
  },
  "language_info": {
   "codemirror_mode": {
    "name": "ipython",
    "version": 3
   },
   "file_extension": ".py",
   "mimetype": "text/x-python",
   "name": "python",
   "nbconvert_exporter": "python",
   "pygments_lexer": "ipython3",
   "version": "3.8.8"
  }
 },
 "nbformat": 4,
 "nbformat_minor": 5
}
